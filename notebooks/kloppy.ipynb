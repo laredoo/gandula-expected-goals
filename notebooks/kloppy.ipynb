{
 "cells": [
  {
   "cell_type": "code",
   "execution_count": 2,
   "id": "165b484b",
   "metadata": {},
   "outputs": [],
   "source": [
    "import pandas as pd"
   ]
  },
  {
   "cell_type": "code",
   "execution_count": null,
   "id": "cadb125e",
   "metadata": {},
   "outputs": [
    {
     "data": {
      "text/plain": [
       "Index(['gameId', 'gameEventId', 'possessionEventId', 'startTime', 'endTime',\n",
       "       'duration', 'eventTime', 'gameEvents', 'initialTouch',\n",
       "       'possessionEvents', 'fouls', 'grades', 'homePlayers', 'awayPlayers',\n",
       "       'ball'],\n",
       "      dtype='object')"
      ]
     },
     "execution_count": 71,
     "metadata": {},
     "output_type": "execute_result"
    }
   ],
   "source": [
    "event_data_path = \"../data/01_raw/event_data/3812.json\"\n",
    "\n",
    "event_data = pd.read_json(event_data_path)\n",
    "\n",
    "event_data.columns"
   ]
  },
  {
   "cell_type": "code",
   "execution_count": null,
   "id": "41eba409",
   "metadata": {},
   "outputs": [],
   "source": [
    "game_events_df = event_data[\"gameEvents\"].apply(pd.Series)\n",
    "possession_events_df = event_data[\"possessionEvents\"].apply(pd.Series)\n",
    "initial_touch_df = event_data[\"initialTouch\"].apply(pd.Series)\n",
    "fouls_df = event_data[\"fouls\"].apply(pd.Series)\n",
    "grades_df = event_data[\"grades\"].apply(pd.Series)\n",
    "event_data.drop(\n",
    "    columns=[\"gameEvents\", \"possessionEvents\", \"initialTouch\", \"fouls\", \"grades\"],\n",
    "    inplace=True,\n",
    ")\n",
    "event_data = pd.concat([event_data, game_events_df, possession_events_df], axis=1)"
   ]
  },
  {
   "cell_type": "code",
   "execution_count": null,
   "id": "9f0f19da",
   "metadata": {},
   "outputs": [],
   "source": [
    "carry_ = event_data[\"possessionEventType\"] == 'BC'\n",
    "clearance_ = event_data[\"possessionEventType\"] == 'CL'\n",
    "foul_ = event_data[\"possessionEventType\"] == 'FO'\n",
    "pass_ = event_data[\"possessionEventType\"] == 'PA'\n",
    "shot_ = event_data[\"possessionEventType\"] == 'SH'\n",
    "generic_ = ~(carry_ | clearance_ | foul_ | pass_ | shot_)"
   ]
  },
  {
   "cell_type": "code",
   "execution_count": 93,
   "id": "87454a4f",
   "metadata": {},
   "outputs": [
    {
     "data": {
      "text/plain": [
       "14        CH\n",
       "17        RE\n",
       "18      None\n",
       "19        CR\n",
       "28        CH\n",
       "        ... \n",
       "1354    None\n",
       "1360      RE\n",
       "1361    None\n",
       "1368    None\n",
       "1369    None\n",
       "Name: possessionEventType, Length: 399, dtype: object"
      ]
     },
     "execution_count": 93,
     "metadata": {},
     "output_type": "execute_result"
    }
   ],
   "source": [
    "event_data.loc[generic_, 'possessionEventType']"
   ]
  },
  {
   "cell_type": "code",
   "execution_count": null,
   "id": "738d6222",
   "metadata": {},
   "outputs": [
    {
     "data": {
      "text/plain": [
       "Index(['gameEventType', 'initialNonEvent', 'startGameClock',\n",
       "       'startFormattedGameClock', 'period', 'videoMissing', 'teamId',\n",
       "       'teamName', 'playerId', 'playerName', 'touches', 'touchesInBox',\n",
       "       'setpieceType', 'earlyDistribution', 'videoUrl', 'endType', 'outType',\n",
       "       'subType', 'playerOffId', 'playerOffName', 'playerOffType',\n",
       "       'playerOnId', 'playerOnName'],\n",
       "      dtype='object')"
      ]
     },
     "execution_count": 37,
     "metadata": {},
     "output_type": "execute_result"
    }
   ],
   "source": [
    "df = pd.json_normalize(event_data[\"gameEvents\"])\n",
    "\n",
    "df.columns"
   ]
  },
  {
   "cell_type": "code",
   "execution_count": null,
   "id": "80751708",
   "metadata": {},
   "outputs": [
    {
     "data": {
      "text/plain": [
       "{'possessionEventType': 'PA',\n",
       " 'nonEvent': False,\n",
       " 'gameClock': 0,\n",
       " 'formattedGameClock': '00:00',\n",
       " 'eventVideoUrl': 'https://epitome.pff.com/en/film_room/87f7e9ab-da77-4fab-affd-173bbe3ad2f9/141.008',\n",
       " 'ballHeightType': 'G',\n",
       " 'bodyType': 'L',\n",
       " 'highPointType': 'G',\n",
       " 'passerPlayerId': 3315,\n",
       " 'passerPlayerName': 'Vincent Janssen',\n",
       " 'passType': 'S',\n",
       " 'passOutcomeType': 'C',\n",
       " 'crosserPlayerId': None,\n",
       " 'crosserPlayerName': None,\n",
       " 'crossType': None,\n",
       " 'crossZoneType': None,\n",
       " 'crossOutcomeType': None,\n",
       " 'targetPlayerId': 1522,\n",
       " 'targetPlayerName': 'Frenkie de Jong',\n",
       " 'targetFacingType': 'G',\n",
       " 'receiverPlayerId': 1522,\n",
       " 'receiverPlayerName': 'Frenkie de Jong',\n",
       " 'receiverFacingType': 'G',\n",
       " 'defenderPlayerId': None,\n",
       " 'defenderPlayerName': None,\n",
       " 'blockerPlayerId': None,\n",
       " 'blockerPlayerName': None,\n",
       " 'deflectorPlayerId': None,\n",
       " 'deflectorPlayerName': None,\n",
       " 'failedBlockerPlayerId': None,\n",
       " 'failedBlockerPlayerName': None,\n",
       " 'failedBlocker2PlayerId': None,\n",
       " 'failedBlocker2PlayerName': None,\n",
       " 'accuracyType': 'S',\n",
       " 'incompletionReasonType': None,\n",
       " 'secondIncompletionReasonType': None,\n",
       " 'linesBrokenType': None,\n",
       " 'shooterPlayerId': None,\n",
       " 'shooterPlayerName': None,\n",
       " 'bodyMovementType': None,\n",
       " 'ballMoving': None,\n",
       " 'shotType': None,\n",
       " 'shotNatureType': None,\n",
       " 'shotInitialHeightType': None,\n",
       " 'shotOutcomeType': None,\n",
       " 'keeperPlayerId': None,\n",
       " 'keeperPlayerName': None,\n",
       " 'saveHeightType': None,\n",
       " 'saveReboundType': None,\n",
       " 'keeperTouchType': None,\n",
       " 'glClearerPlayerId': None,\n",
       " 'glClearerPlayerName': None,\n",
       " 'badParry': None,\n",
       " 'saveable': None,\n",
       " 'clearerPlayerId': None,\n",
       " 'clearerPlayerName': None,\n",
       " 'clearanceOutcomeType': None,\n",
       " 'carrierPlayerId': None,\n",
       " 'carrierPlayerName': None,\n",
       " 'dribblerPlayerId': None,\n",
       " 'dribblerPlayerName': None,\n",
       " 'challengeType': None,\n",
       " 'dribbleType': None,\n",
       " 'tackleAttemptType': None,\n",
       " 'trickType': None,\n",
       " 'challengerPlayerId': None,\n",
       " 'challengerPlayerName': None,\n",
       " 'homeDuelPlayerId': None,\n",
       " 'homeDuelPlayerName': None,\n",
       " 'awayDuelPlayerId': None,\n",
       " 'awayDuelPlayerName': None,\n",
       " 'additionalDuelerPlayerId': None,\n",
       " 'additionalDuelerPlayerName': None,\n",
       " 'additionalDueler2PlayerId': None,\n",
       " 'additionalDueler2PlayerName': None,\n",
       " 'challengeKeeperPlayerId': None,\n",
       " 'challengeKeeperPlayerName': None,\n",
       " 'challengeWinnerPlayerId': None,\n",
       " 'challengeWinnerPlayerName': None,\n",
       " 'challengeOutcomeType': None,\n",
       " 'ballCarrierPlayerId': None,\n",
       " 'ballCarrierPlayerName': None,\n",
       " 'touchPlayerId': None,\n",
       " 'touchPlayerName': None,\n",
       " 'carryType': None,\n",
       " 'ballCarryOutcome': None,\n",
       " 'carryDefenderPlayerId': None,\n",
       " 'carryDefenderPlayerName': None,\n",
       " 'carryIntent': None,\n",
       " 'carrySuccessful': None,\n",
       " 'touchType': None,\n",
       " 'touchOutcomeType': None,\n",
       " 'rebounderPlayerId': None,\n",
       " 'rebounderPlayerName': None,\n",
       " 'originateType': None,\n",
       " 'reboundOutcomeType': None,\n",
       " 'missedTouchType': None,\n",
       " 'missedTouchPlayerId': None,\n",
       " 'missedTouchPlayerName': None,\n",
       " 'pressureType': 'N',\n",
       " 'pressurePlayerId': None,\n",
       " 'pressurePlayerName': None,\n",
       " 'opportunityType': None,\n",
       " 'betterOptionType': None,\n",
       " 'betterOptionTime': None,\n",
       " 'betterOptionPlayerId': None,\n",
       " 'betterOptionPlayerName': None,\n",
       " 'createsSpace': False,\n",
       " 'csPlayerId': None,\n",
       " 'csPlayerName': None,\n",
       " 'csGrade': None,\n",
       " 'positionPlayerId': None,\n",
       " 'position2PlayerId': None,\n",
       " 'position3PlayerId': None,\n",
       " 'positionPlayerName': None,\n",
       " 'position2PlayerName': None,\n",
       " 'position3PlayerName': None,\n",
       " 'closingDownPlayerId': None,\n",
       " 'closingDownPlayerName': None,\n",
       " 'movementPlayerId': None,\n",
       " 'movementPlayerName': None}"
      ]
     },
     "execution_count": 31,
     "metadata": {},
     "output_type": "execute_result"
    }
   ],
   "source": [
    "event_data.iloc[0][\"possessionEvents\"]"
   ]
  },
  {
   "cell_type": "code",
   "execution_count": 3,
   "id": "26e5eb17",
   "metadata": {},
   "outputs": [],
   "source": [
    "kloppy_event_types = [\n",
    "    \"Generic\",\n",
    "    \"Pass\",\n",
    "    \"Shot\",\n",
    "    \"TakeOn\",\n",
    "    \"Carry\",\n",
    "    \"Clearance\",\n",
    "    \"Interception\",\n",
    "    \"Duel\",\n",
    "    \"Substitution\",\n",
    "    \"Card\",\n",
    "    \"PlayerOn\",\n",
    "    \"PlayerOff\",\n",
    "    \"Recovery\",\n",
    "    \"Miscontrol\",\n",
    "    \"BallOut\",\n",
    "    \"FoulCommitted\",\n",
    "    \"Goalkeeper\",\n",
    "    \"Pressure\",\n",
    "    \"FormationChange\",\n",
    "]"
   ]
  }
 ],
 "metadata": {
  "kernelspec": {
   "display_name": ".venv",
   "language": "python",
   "name": "python3"
  },
  "language_info": {
   "codemirror_mode": {
    "name": "ipython",
    "version": 3
   },
   "file_extension": ".py",
   "mimetype": "text/x-python",
   "name": "python",
   "nbconvert_exporter": "python",
   "pygments_lexer": "ipython3",
   "version": "3.12.10"
  }
 },
 "nbformat": 4,
 "nbformat_minor": 5
}
