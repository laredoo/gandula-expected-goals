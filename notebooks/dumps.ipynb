{
 "cells": [
  {
   "cell_type": "code",
   "execution_count": 1,
   "id": "69909e9b",
   "metadata": {},
   "outputs": [],
   "source": [
    "import pandas as pd"
   ]
  },
  {
   "cell_type": "code",
   "execution_count": 2,
   "id": "ade7660a",
   "metadata": {},
   "outputs": [],
   "source": [
    "competitions_path = \"../data/01_raw/competitions.csv\"\n",
    "players_path = \"../data/01_raw/players.csv\""
   ]
  },
  {
   "cell_type": "code",
   "execution_count": 36,
   "id": "ff3f517c",
   "metadata": {},
   "outputs": [],
   "source": [
    "competitions = pd.read_csv(competitions_path)\n",
    "players = pd.read_csv(players_path)"
   ]
  },
  {
   "cell_type": "code",
   "execution_count": 61,
   "id": "6e60bab2",
   "metadata": {},
   "outputs": [
    {
     "data": {
      "text/html": [
       "<div>\n",
       "<style scoped>\n",
       "    .dataframe tbody tr th:only-of-type {\n",
       "        vertical-align: middle;\n",
       "    }\n",
       "\n",
       "    .dataframe tbody tr th {\n",
       "        vertical-align: top;\n",
       "    }\n",
       "\n",
       "    .dataframe thead th {\n",
       "        text-align: right;\n",
       "    }\n",
       "</style>\n",
       "<table border=\"1\" class=\"dataframe\">\n",
       "  <thead>\n",
       "    <tr style=\"text-align: right;\">\n",
       "      <th></th>\n",
       "      <th>competition_id</th>\n",
       "      <th>name</th>\n",
       "      <th>game_id</th>\n",
       "      <th>season</th>\n",
       "    </tr>\n",
       "  </thead>\n",
       "  <tbody>\n",
       "    <tr>\n",
       "      <th>0</th>\n",
       "      <td>38</td>\n",
       "      <td>FIFA Men's World Cup</td>\n",
       "      <td>10511</td>\n",
       "      <td>2022</td>\n",
       "    </tr>\n",
       "    <tr>\n",
       "      <th>0</th>\n",
       "      <td>38</td>\n",
       "      <td>FIFA Men's World Cup</td>\n",
       "      <td>3812</td>\n",
       "      <td>2022</td>\n",
       "    </tr>\n",
       "    <tr>\n",
       "      <th>0</th>\n",
       "      <td>38</td>\n",
       "      <td>FIFA Men's World Cup</td>\n",
       "      <td>3813</td>\n",
       "      <td>2022</td>\n",
       "    </tr>\n",
       "    <tr>\n",
       "      <th>0</th>\n",
       "      <td>38</td>\n",
       "      <td>FIFA Men's World Cup</td>\n",
       "      <td>3814</td>\n",
       "      <td>2022</td>\n",
       "    </tr>\n",
       "    <tr>\n",
       "      <th>0</th>\n",
       "      <td>38</td>\n",
       "      <td>FIFA Men's World Cup</td>\n",
       "      <td>3815</td>\n",
       "      <td>2022</td>\n",
       "    </tr>\n",
       "    <tr>\n",
       "      <th>...</th>\n",
       "      <td>...</td>\n",
       "      <td>...</td>\n",
       "      <td>...</td>\n",
       "      <td>...</td>\n",
       "    </tr>\n",
       "    <tr>\n",
       "      <th>0</th>\n",
       "      <td>38</td>\n",
       "      <td>FIFA Men's World Cup</td>\n",
       "      <td>3833</td>\n",
       "      <td>2022</td>\n",
       "    </tr>\n",
       "    <tr>\n",
       "      <th>0</th>\n",
       "      <td>38</td>\n",
       "      <td>FIFA Men's World Cup</td>\n",
       "      <td>10508</td>\n",
       "      <td>2022</td>\n",
       "    </tr>\n",
       "    <tr>\n",
       "      <th>0</th>\n",
       "      <td>38</td>\n",
       "      <td>FIFA Men's World Cup</td>\n",
       "      <td>10506</td>\n",
       "      <td>2022</td>\n",
       "    </tr>\n",
       "    <tr>\n",
       "      <th>0</th>\n",
       "      <td>38</td>\n",
       "      <td>FIFA Men's World Cup</td>\n",
       "      <td>10517</td>\n",
       "      <td>2022</td>\n",
       "    </tr>\n",
       "    <tr>\n",
       "      <th>0</th>\n",
       "      <td>38</td>\n",
       "      <td>FIFA Men's World Cup</td>\n",
       "      <td>10510</td>\n",
       "      <td>2022</td>\n",
       "    </tr>\n",
       "  </tbody>\n",
       "</table>\n",
       "<p>64 rows × 4 columns</p>\n",
       "</div>"
      ],
      "text/plain": [
       "    competition_id                  name game_id season\n",
       "0               38  FIFA Men's World Cup   10511   2022\n",
       "0               38  FIFA Men's World Cup    3812   2022\n",
       "0               38  FIFA Men's World Cup    3813   2022\n",
       "0               38  FIFA Men's World Cup    3814   2022\n",
       "0               38  FIFA Men's World Cup    3815   2022\n",
       "..             ...                   ...     ...    ...\n",
       "0               38  FIFA Men's World Cup    3833   2022\n",
       "0               38  FIFA Men's World Cup   10508   2022\n",
       "0               38  FIFA Men's World Cup   10506   2022\n",
       "0               38  FIFA Men's World Cup   10517   2022\n",
       "0               38  FIFA Men's World Cup   10510   2022\n",
       "\n",
       "[64 rows x 4 columns]"
      ]
     },
     "execution_count": 61,
     "metadata": {},
     "output_type": "execute_result"
    }
   ],
   "source": [
    "games = competitions.explode(\"games\").rename(columns={\"id\": \"competition_id\"})\n",
    "\n",
    "competitions = competitions.drop(columns=[\"games\"])\n",
    "\n",
    "games = pd.concat(\n",
    "    [games.drop(columns=[\"games\"]), games[\"games\"].apply(pd.Series)], axis=1\n",
    ").rename(columns={\"id\": \"game_id\"})\n",
    "\n",
    "games"
   ]
  },
  {
   "cell_type": "code",
   "execution_count": null,
   "id": "9afe66f0",
   "metadata": {},
   "outputs": [
    {
     "data": {
      "text/plain": [
       "0    [{'id': '10511', 'season': '2022'}, {'id': '38...\n",
       "Name: games, dtype: object"
      ]
     },
     "execution_count": 32,
     "metadata": {},
     "output_type": "execute_result"
    }
   ],
   "source": [
    "import ast\n",
    "\n",
    "competitions[\"games\"].apply(ast.literal_eval)"
   ]
  },
  {
   "cell_type": "code",
   "execution_count": 63,
   "id": "bb435cb6",
   "metadata": {},
   "outputs": [],
   "source": [
    "from pathlib import PosixPath\n",
    "\n",
    "events_path = PosixPath(\"/Users/lucas/data/PFF/world-cup-2022\")"
   ]
  },
  {
   "cell_type": "code",
   "execution_count": 10,
   "id": "e5e7addb",
   "metadata": {},
   "outputs": [
    {
     "data": {
      "text/plain": [
       "['askdjas']"
      ]
     },
     "execution_count": 10,
     "metadata": {},
     "output_type": "execute_result"
    }
   ],
   "source": [
    "expected_return = \"3111 3112\"\n",
    "\n",
    "test = \"askdjas\"\n",
    "\n",
    "test.split(' ')"
   ]
  },
  {
   "cell_type": "code",
   "execution_count": null,
   "id": "9ea2e663",
   "metadata": {},
   "outputs": [],
   "source": []
  }
 ],
 "metadata": {
  "kernelspec": {
   "display_name": ".venv",
   "language": "python",
   "name": "python3"
  },
  "language_info": {
   "codemirror_mode": {
    "name": "ipython",
    "version": 3
   },
   "file_extension": ".py",
   "mimetype": "text/x-python",
   "name": "python",
   "nbconvert_exporter": "python",
   "pygments_lexer": "ipython3",
   "version": "3.11.6"
  }
 },
 "nbformat": 4,
 "nbformat_minor": 5
}
